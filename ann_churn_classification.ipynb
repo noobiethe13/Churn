{
  "metadata": {
    "kernelspec": {
      "language": "python",
      "display_name": "Python 3",
      "name": "python3"
    },
    "language_info": {
      "name": "python",
      "version": "3.10.13",
      "mimetype": "text/x-python",
      "codemirror_mode": {
        "name": "ipython",
        "version": 3
      },
      "pygments_lexer": "ipython3",
      "nbconvert_exporter": "python",
      "file_extension": ".py"
    },
    "kaggle": {
      "accelerator": "none",
      "dataSources": [
        {
          "sourceId": 1368540,
          "sourceType": "datasetVersion",
          "datasetId": 797699
        }
      ],
      "dockerImageVersionId": 30664,
      "isInternetEnabled": false,
      "language": "python",
      "sourceType": "notebook",
      "isGpuEnabled": false
    },
    "colab": {
      "provenance": []
    }
  },
  "nbformat_minor": 0,
  "nbformat": 4,
  "cells": [
    {
      "cell_type": "code",
      "source": [
        "import numpy as np\n",
        "import pandas as pd\n",
        "import os"
      ],
      "metadata": {
        "execution": {
          "iopub.status.busy": "2024-03-02T10:15:16.297054Z",
          "iopub.execute_input": "2024-03-02T10:15:16.297853Z",
          "iopub.status.idle": "2024-03-02T10:15:16.306576Z",
          "shell.execute_reply.started": "2024-03-02T10:15:16.297817Z",
          "shell.execute_reply": "2024-03-02T10:15:16.305396Z"
        },
        "trusted": true,
        "id": "NbSGXX_w_IFe"
      },
      "execution_count": null,
      "outputs": []
    },
    {
      "cell_type": "code",
      "source": [
        "df=pd.read_csv('churn.csv')"
      ],
      "metadata": {
        "execution": {
          "iopub.status.busy": "2024-03-02T10:15:16.505368Z",
          "iopub.execute_input": "2024-03-02T10:15:16.506164Z",
          "iopub.status.idle": "2024-03-02T10:15:16.529528Z",
          "shell.execute_reply.started": "2024-03-02T10:15:16.506127Z",
          "shell.execute_reply": "2024-03-02T10:15:16.528169Z"
        },
        "trusted": true,
        "id": "xu3JTizP_IFg"
      },
      "execution_count": null,
      "outputs": []
    },
    {
      "cell_type": "code",
      "source": [
        "df.head()"
      ],
      "metadata": {
        "execution": {
          "iopub.status.busy": "2024-03-02T10:15:16.664923Z",
          "iopub.execute_input": "2024-03-02T10:15:16.665328Z",
          "iopub.status.idle": "2024-03-02T10:15:16.682915Z",
          "shell.execute_reply.started": "2024-03-02T10:15:16.665295Z",
          "shell.execute_reply": "2024-03-02T10:15:16.681641Z"
        },
        "trusted": true,
        "colab": {
          "base_uri": "https://localhost:8080/",
          "height": 226
        },
        "id": "HhzshgG5_IFg",
        "outputId": "f33809c2-72a1-43f9-d9ba-4d6952904421"
      },
      "execution_count": null,
      "outputs": [
        {
          "output_type": "execute_result",
          "data": {
            "text/plain": [
              "   RowNumber  CustomerId   Surname  CreditScore Geography  Gender  Age  \\\n",
              "0          1    15634602  Hargrave          619    France  Female   42   \n",
              "1          2    15647311      Hill          608     Spain  Female   41   \n",
              "2          3    15619304      Onio          502    France  Female   42   \n",
              "3          4    15701354      Boni          699    France  Female   39   \n",
              "4          5    15737888  Mitchell          850     Spain  Female   43   \n",
              "\n",
              "   Tenure    Balance  NumOfProducts  HasCrCard  IsActiveMember  \\\n",
              "0       2       0.00              1          1               1   \n",
              "1       1   83807.86              1          0               1   \n",
              "2       8  159660.80              3          1               0   \n",
              "3       1       0.00              2          0               0   \n",
              "4       2  125510.82              1          1               1   \n",
              "\n",
              "   EstimatedSalary  Exited  \n",
              "0        101348.88       1  \n",
              "1        112542.58       0  \n",
              "2        113931.57       1  \n",
              "3         93826.63       0  \n",
              "4         79084.10       0  "
            ],
            "text/html": [
              "\n",
              "  <div id=\"df-3515fbf8-053b-4b89-a1f1-ae9d40f25a02\" class=\"colab-df-container\">\n",
              "    <div>\n",
              "<style scoped>\n",
              "    .dataframe tbody tr th:only-of-type {\n",
              "        vertical-align: middle;\n",
              "    }\n",
              "\n",
              "    .dataframe tbody tr th {\n",
              "        vertical-align: top;\n",
              "    }\n",
              "\n",
              "    .dataframe thead th {\n",
              "        text-align: right;\n",
              "    }\n",
              "</style>\n",
              "<table border=\"1\" class=\"dataframe\">\n",
              "  <thead>\n",
              "    <tr style=\"text-align: right;\">\n",
              "      <th></th>\n",
              "      <th>RowNumber</th>\n",
              "      <th>CustomerId</th>\n",
              "      <th>Surname</th>\n",
              "      <th>CreditScore</th>\n",
              "      <th>Geography</th>\n",
              "      <th>Gender</th>\n",
              "      <th>Age</th>\n",
              "      <th>Tenure</th>\n",
              "      <th>Balance</th>\n",
              "      <th>NumOfProducts</th>\n",
              "      <th>HasCrCard</th>\n",
              "      <th>IsActiveMember</th>\n",
              "      <th>EstimatedSalary</th>\n",
              "      <th>Exited</th>\n",
              "    </tr>\n",
              "  </thead>\n",
              "  <tbody>\n",
              "    <tr>\n",
              "      <th>0</th>\n",
              "      <td>1</td>\n",
              "      <td>15634602</td>\n",
              "      <td>Hargrave</td>\n",
              "      <td>619</td>\n",
              "      <td>France</td>\n",
              "      <td>Female</td>\n",
              "      <td>42</td>\n",
              "      <td>2</td>\n",
              "      <td>0.00</td>\n",
              "      <td>1</td>\n",
              "      <td>1</td>\n",
              "      <td>1</td>\n",
              "      <td>101348.88</td>\n",
              "      <td>1</td>\n",
              "    </tr>\n",
              "    <tr>\n",
              "      <th>1</th>\n",
              "      <td>2</td>\n",
              "      <td>15647311</td>\n",
              "      <td>Hill</td>\n",
              "      <td>608</td>\n",
              "      <td>Spain</td>\n",
              "      <td>Female</td>\n",
              "      <td>41</td>\n",
              "      <td>1</td>\n",
              "      <td>83807.86</td>\n",
              "      <td>1</td>\n",
              "      <td>0</td>\n",
              "      <td>1</td>\n",
              "      <td>112542.58</td>\n",
              "      <td>0</td>\n",
              "    </tr>\n",
              "    <tr>\n",
              "      <th>2</th>\n",
              "      <td>3</td>\n",
              "      <td>15619304</td>\n",
              "      <td>Onio</td>\n",
              "      <td>502</td>\n",
              "      <td>France</td>\n",
              "      <td>Female</td>\n",
              "      <td>42</td>\n",
              "      <td>8</td>\n",
              "      <td>159660.80</td>\n",
              "      <td>3</td>\n",
              "      <td>1</td>\n",
              "      <td>0</td>\n",
              "      <td>113931.57</td>\n",
              "      <td>1</td>\n",
              "    </tr>\n",
              "    <tr>\n",
              "      <th>3</th>\n",
              "      <td>4</td>\n",
              "      <td>15701354</td>\n",
              "      <td>Boni</td>\n",
              "      <td>699</td>\n",
              "      <td>France</td>\n",
              "      <td>Female</td>\n",
              "      <td>39</td>\n",
              "      <td>1</td>\n",
              "      <td>0.00</td>\n",
              "      <td>2</td>\n",
              "      <td>0</td>\n",
              "      <td>0</td>\n",
              "      <td>93826.63</td>\n",
              "      <td>0</td>\n",
              "    </tr>\n",
              "    <tr>\n",
              "      <th>4</th>\n",
              "      <td>5</td>\n",
              "      <td>15737888</td>\n",
              "      <td>Mitchell</td>\n",
              "      <td>850</td>\n",
              "      <td>Spain</td>\n",
              "      <td>Female</td>\n",
              "      <td>43</td>\n",
              "      <td>2</td>\n",
              "      <td>125510.82</td>\n",
              "      <td>1</td>\n",
              "      <td>1</td>\n",
              "      <td>1</td>\n",
              "      <td>79084.10</td>\n",
              "      <td>0</td>\n",
              "    </tr>\n",
              "  </tbody>\n",
              "</table>\n",
              "</div>\n",
              "    <div class=\"colab-df-buttons\">\n",
              "\n",
              "  <div class=\"colab-df-container\">\n",
              "    <button class=\"colab-df-convert\" onclick=\"convertToInteractive('df-3515fbf8-053b-4b89-a1f1-ae9d40f25a02')\"\n",
              "            title=\"Convert this dataframe to an interactive table.\"\n",
              "            style=\"display:none;\">\n",
              "\n",
              "  <svg xmlns=\"http://www.w3.org/2000/svg\" height=\"24px\" viewBox=\"0 -960 960 960\">\n",
              "    <path d=\"M120-120v-720h720v720H120Zm60-500h600v-160H180v160Zm220 220h160v-160H400v160Zm0 220h160v-160H400v160ZM180-400h160v-160H180v160Zm440 0h160v-160H620v160ZM180-180h160v-160H180v160Zm440 0h160v-160H620v160Z\"/>\n",
              "  </svg>\n",
              "    </button>\n",
              "\n",
              "  <style>\n",
              "    .colab-df-container {\n",
              "      display:flex;\n",
              "      gap: 12px;\n",
              "    }\n",
              "\n",
              "    .colab-df-convert {\n",
              "      background-color: #E8F0FE;\n",
              "      border: none;\n",
              "      border-radius: 50%;\n",
              "      cursor: pointer;\n",
              "      display: none;\n",
              "      fill: #1967D2;\n",
              "      height: 32px;\n",
              "      padding: 0 0 0 0;\n",
              "      width: 32px;\n",
              "    }\n",
              "\n",
              "    .colab-df-convert:hover {\n",
              "      background-color: #E2EBFA;\n",
              "      box-shadow: 0px 1px 2px rgba(60, 64, 67, 0.3), 0px 1px 3px 1px rgba(60, 64, 67, 0.15);\n",
              "      fill: #174EA6;\n",
              "    }\n",
              "\n",
              "    .colab-df-buttons div {\n",
              "      margin-bottom: 4px;\n",
              "    }\n",
              "\n",
              "    [theme=dark] .colab-df-convert {\n",
              "      background-color: #3B4455;\n",
              "      fill: #D2E3FC;\n",
              "    }\n",
              "\n",
              "    [theme=dark] .colab-df-convert:hover {\n",
              "      background-color: #434B5C;\n",
              "      box-shadow: 0px 1px 3px 1px rgba(0, 0, 0, 0.15);\n",
              "      filter: drop-shadow(0px 1px 2px rgba(0, 0, 0, 0.3));\n",
              "      fill: #FFFFFF;\n",
              "    }\n",
              "  </style>\n",
              "\n",
              "    <script>\n",
              "      const buttonEl =\n",
              "        document.querySelector('#df-3515fbf8-053b-4b89-a1f1-ae9d40f25a02 button.colab-df-convert');\n",
              "      buttonEl.style.display =\n",
              "        google.colab.kernel.accessAllowed ? 'block' : 'none';\n",
              "\n",
              "      async function convertToInteractive(key) {\n",
              "        const element = document.querySelector('#df-3515fbf8-053b-4b89-a1f1-ae9d40f25a02');\n",
              "        const dataTable =\n",
              "          await google.colab.kernel.invokeFunction('convertToInteractive',\n",
              "                                                    [key], {});\n",
              "        if (!dataTable) return;\n",
              "\n",
              "        const docLinkHtml = 'Like what you see? Visit the ' +\n",
              "          '<a target=\"_blank\" href=https://colab.research.google.com/notebooks/data_table.ipynb>data table notebook</a>'\n",
              "          + ' to learn more about interactive tables.';\n",
              "        element.innerHTML = '';\n",
              "        dataTable['output_type'] = 'display_data';\n",
              "        await google.colab.output.renderOutput(dataTable, element);\n",
              "        const docLink = document.createElement('div');\n",
              "        docLink.innerHTML = docLinkHtml;\n",
              "        element.appendChild(docLink);\n",
              "      }\n",
              "    </script>\n",
              "  </div>\n",
              "\n",
              "\n",
              "<div id=\"df-a725a99f-8f39-4578-b6e9-41f7e3a44fff\">\n",
              "  <button class=\"colab-df-quickchart\" onclick=\"quickchart('df-a725a99f-8f39-4578-b6e9-41f7e3a44fff')\"\n",
              "            title=\"Suggest charts\"\n",
              "            style=\"display:none;\">\n",
              "\n",
              "<svg xmlns=\"http://www.w3.org/2000/svg\" height=\"24px\"viewBox=\"0 0 24 24\"\n",
              "     width=\"24px\">\n",
              "    <g>\n",
              "        <path d=\"M19 3H5c-1.1 0-2 .9-2 2v14c0 1.1.9 2 2 2h14c1.1 0 2-.9 2-2V5c0-1.1-.9-2-2-2zM9 17H7v-7h2v7zm4 0h-2V7h2v10zm4 0h-2v-4h2v4z\"/>\n",
              "    </g>\n",
              "</svg>\n",
              "  </button>\n",
              "\n",
              "<style>\n",
              "  .colab-df-quickchart {\n",
              "      --bg-color: #E8F0FE;\n",
              "      --fill-color: #1967D2;\n",
              "      --hover-bg-color: #E2EBFA;\n",
              "      --hover-fill-color: #174EA6;\n",
              "      --disabled-fill-color: #AAA;\n",
              "      --disabled-bg-color: #DDD;\n",
              "  }\n",
              "\n",
              "  [theme=dark] .colab-df-quickchart {\n",
              "      --bg-color: #3B4455;\n",
              "      --fill-color: #D2E3FC;\n",
              "      --hover-bg-color: #434B5C;\n",
              "      --hover-fill-color: #FFFFFF;\n",
              "      --disabled-bg-color: #3B4455;\n",
              "      --disabled-fill-color: #666;\n",
              "  }\n",
              "\n",
              "  .colab-df-quickchart {\n",
              "    background-color: var(--bg-color);\n",
              "    border: none;\n",
              "    border-radius: 50%;\n",
              "    cursor: pointer;\n",
              "    display: none;\n",
              "    fill: var(--fill-color);\n",
              "    height: 32px;\n",
              "    padding: 0;\n",
              "    width: 32px;\n",
              "  }\n",
              "\n",
              "  .colab-df-quickchart:hover {\n",
              "    background-color: var(--hover-bg-color);\n",
              "    box-shadow: 0 1px 2px rgba(60, 64, 67, 0.3), 0 1px 3px 1px rgba(60, 64, 67, 0.15);\n",
              "    fill: var(--button-hover-fill-color);\n",
              "  }\n",
              "\n",
              "  .colab-df-quickchart-complete:disabled,\n",
              "  .colab-df-quickchart-complete:disabled:hover {\n",
              "    background-color: var(--disabled-bg-color);\n",
              "    fill: var(--disabled-fill-color);\n",
              "    box-shadow: none;\n",
              "  }\n",
              "\n",
              "  .colab-df-spinner {\n",
              "    border: 2px solid var(--fill-color);\n",
              "    border-color: transparent;\n",
              "    border-bottom-color: var(--fill-color);\n",
              "    animation:\n",
              "      spin 1s steps(1) infinite;\n",
              "  }\n",
              "\n",
              "  @keyframes spin {\n",
              "    0% {\n",
              "      border-color: transparent;\n",
              "      border-bottom-color: var(--fill-color);\n",
              "      border-left-color: var(--fill-color);\n",
              "    }\n",
              "    20% {\n",
              "      border-color: transparent;\n",
              "      border-left-color: var(--fill-color);\n",
              "      border-top-color: var(--fill-color);\n",
              "    }\n",
              "    30% {\n",
              "      border-color: transparent;\n",
              "      border-left-color: var(--fill-color);\n",
              "      border-top-color: var(--fill-color);\n",
              "      border-right-color: var(--fill-color);\n",
              "    }\n",
              "    40% {\n",
              "      border-color: transparent;\n",
              "      border-right-color: var(--fill-color);\n",
              "      border-top-color: var(--fill-color);\n",
              "    }\n",
              "    60% {\n",
              "      border-color: transparent;\n",
              "      border-right-color: var(--fill-color);\n",
              "    }\n",
              "    80% {\n",
              "      border-color: transparent;\n",
              "      border-right-color: var(--fill-color);\n",
              "      border-bottom-color: var(--fill-color);\n",
              "    }\n",
              "    90% {\n",
              "      border-color: transparent;\n",
              "      border-bottom-color: var(--fill-color);\n",
              "    }\n",
              "  }\n",
              "</style>\n",
              "\n",
              "  <script>\n",
              "    async function quickchart(key) {\n",
              "      const quickchartButtonEl =\n",
              "        document.querySelector('#' + key + ' button');\n",
              "      quickchartButtonEl.disabled = true;  // To prevent multiple clicks.\n",
              "      quickchartButtonEl.classList.add('colab-df-spinner');\n",
              "      try {\n",
              "        const charts = await google.colab.kernel.invokeFunction(\n",
              "            'suggestCharts', [key], {});\n",
              "      } catch (error) {\n",
              "        console.error('Error during call to suggestCharts:', error);\n",
              "      }\n",
              "      quickchartButtonEl.classList.remove('colab-df-spinner');\n",
              "      quickchartButtonEl.classList.add('colab-df-quickchart-complete');\n",
              "    }\n",
              "    (() => {\n",
              "      let quickchartButtonEl =\n",
              "        document.querySelector('#df-a725a99f-8f39-4578-b6e9-41f7e3a44fff button');\n",
              "      quickchartButtonEl.style.display =\n",
              "        google.colab.kernel.accessAllowed ? 'block' : 'none';\n",
              "    })();\n",
              "  </script>\n",
              "</div>\n",
              "\n",
              "    </div>\n",
              "  </div>\n"
            ],
            "application/vnd.google.colaboratory.intrinsic+json": {
              "type": "dataframe",
              "variable_name": "df",
              "summary": "{\n  \"name\": \"df\",\n  \"rows\": 10000,\n  \"fields\": [\n    {\n      \"column\": \"RowNumber\",\n      \"properties\": {\n        \"dtype\": \"number\",\n        \"std\": 2886,\n        \"min\": 1,\n        \"max\": 10000,\n        \"num_unique_values\": 10000,\n        \"samples\": [\n          6253,\n          4685,\n          1732\n        ],\n        \"semantic_type\": \"\",\n        \"description\": \"\"\n      }\n    },\n    {\n      \"column\": \"CustomerId\",\n      \"properties\": {\n        \"dtype\": \"number\",\n        \"std\": 71936,\n        \"min\": 15565701,\n        \"max\": 15815690,\n        \"num_unique_values\": 10000,\n        \"samples\": [\n          15687492,\n          15736963,\n          15721730\n        ],\n        \"semantic_type\": \"\",\n        \"description\": \"\"\n      }\n    },\n    {\n      \"column\": \"Surname\",\n      \"properties\": {\n        \"dtype\": \"category\",\n        \"num_unique_values\": 2932,\n        \"samples\": [\n          \"McGuirk\",\n          \"Torkelson\",\n          \"Rapuluchukwu\"\n        ],\n        \"semantic_type\": \"\",\n        \"description\": \"\"\n      }\n    },\n    {\n      \"column\": \"CreditScore\",\n      \"properties\": {\n        \"dtype\": \"number\",\n        \"std\": 96,\n        \"min\": 350,\n        \"max\": 850,\n        \"num_unique_values\": 460,\n        \"samples\": [\n          754,\n          533,\n          744\n        ],\n        \"semantic_type\": \"\",\n        \"description\": \"\"\n      }\n    },\n    {\n      \"column\": \"Geography\",\n      \"properties\": {\n        \"dtype\": \"category\",\n        \"num_unique_values\": 3,\n        \"samples\": [\n          \"France\",\n          \"Spain\",\n          \"Germany\"\n        ],\n        \"semantic_type\": \"\",\n        \"description\": \"\"\n      }\n    },\n    {\n      \"column\": \"Gender\",\n      \"properties\": {\n        \"dtype\": \"category\",\n        \"num_unique_values\": 2,\n        \"samples\": [\n          \"Male\",\n          \"Female\"\n        ],\n        \"semantic_type\": \"\",\n        \"description\": \"\"\n      }\n    },\n    {\n      \"column\": \"Age\",\n      \"properties\": {\n        \"dtype\": \"number\",\n        \"std\": 10,\n        \"min\": 18,\n        \"max\": 92,\n        \"num_unique_values\": 70,\n        \"samples\": [\n          61,\n          42\n        ],\n        \"semantic_type\": \"\",\n        \"description\": \"\"\n      }\n    },\n    {\n      \"column\": \"Tenure\",\n      \"properties\": {\n        \"dtype\": \"number\",\n        \"std\": 2,\n        \"min\": 0,\n        \"max\": 10,\n        \"num_unique_values\": 11,\n        \"samples\": [\n          6,\n          2\n        ],\n        \"semantic_type\": \"\",\n        \"description\": \"\"\n      }\n    },\n    {\n      \"column\": \"Balance\",\n      \"properties\": {\n        \"dtype\": \"number\",\n        \"std\": 62397.405202385955,\n        \"min\": 0.0,\n        \"max\": 250898.09,\n        \"num_unique_values\": 6382,\n        \"samples\": [\n          117707.18,\n          133050.97\n        ],\n        \"semantic_type\": \"\",\n        \"description\": \"\"\n      }\n    },\n    {\n      \"column\": \"NumOfProducts\",\n      \"properties\": {\n        \"dtype\": \"number\",\n        \"std\": 0,\n        \"min\": 1,\n        \"max\": 4,\n        \"num_unique_values\": 4,\n        \"samples\": [\n          3,\n          4\n        ],\n        \"semantic_type\": \"\",\n        \"description\": \"\"\n      }\n    },\n    {\n      \"column\": \"HasCrCard\",\n      \"properties\": {\n        \"dtype\": \"number\",\n        \"std\": 0,\n        \"min\": 0,\n        \"max\": 1,\n        \"num_unique_values\": 2,\n        \"samples\": [\n          0,\n          1\n        ],\n        \"semantic_type\": \"\",\n        \"description\": \"\"\n      }\n    },\n    {\n      \"column\": \"IsActiveMember\",\n      \"properties\": {\n        \"dtype\": \"number\",\n        \"std\": 0,\n        \"min\": 0,\n        \"max\": 1,\n        \"num_unique_values\": 2,\n        \"samples\": [\n          0,\n          1\n        ],\n        \"semantic_type\": \"\",\n        \"description\": \"\"\n      }\n    },\n    {\n      \"column\": \"EstimatedSalary\",\n      \"properties\": {\n        \"dtype\": \"number\",\n        \"std\": 57510.49281769816,\n        \"min\": 11.58,\n        \"max\": 199992.48,\n        \"num_unique_values\": 9999,\n        \"samples\": [\n          100809.99,\n          95273.73\n        ],\n        \"semantic_type\": \"\",\n        \"description\": \"\"\n      }\n    },\n    {\n      \"column\": \"Exited\",\n      \"properties\": {\n        \"dtype\": \"number\",\n        \"std\": 0,\n        \"min\": 0,\n        \"max\": 1,\n        \"num_unique_values\": 2,\n        \"samples\": [\n          0,\n          1\n        ],\n        \"semantic_type\": \"\",\n        \"description\": \"\"\n      }\n    }\n  ]\n}"
            }
          },
          "metadata": {},
          "execution_count": 3
        }
      ]
    },
    {
      "cell_type": "code",
      "source": [
        "df.info()"
      ],
      "metadata": {
        "execution": {
          "iopub.status.busy": "2024-03-02T10:15:16.871981Z",
          "iopub.execute_input": "2024-03-02T10:15:16.872829Z",
          "iopub.status.idle": "2024-03-02T10:15:16.889477Z",
          "shell.execute_reply.started": "2024-03-02T10:15:16.872793Z",
          "shell.execute_reply": "2024-03-02T10:15:16.887834Z"
        },
        "trusted": true,
        "colab": {
          "base_uri": "https://localhost:8080/"
        },
        "id": "JUHCYH9h_IFh",
        "outputId": "60eba66b-f91f-4400-e51d-c2f0701ddd24"
      },
      "execution_count": null,
      "outputs": [
        {
          "output_type": "stream",
          "name": "stdout",
          "text": [
            "<class 'pandas.core.frame.DataFrame'>\n",
            "RangeIndex: 10000 entries, 0 to 9999\n",
            "Data columns (total 14 columns):\n",
            " #   Column           Non-Null Count  Dtype  \n",
            "---  ------           --------------  -----  \n",
            " 0   RowNumber        10000 non-null  int64  \n",
            " 1   CustomerId       10000 non-null  int64  \n",
            " 2   Surname          10000 non-null  object \n",
            " 3   CreditScore      10000 non-null  int64  \n",
            " 4   Geography        10000 non-null  object \n",
            " 5   Gender           10000 non-null  object \n",
            " 6   Age              10000 non-null  int64  \n",
            " 7   Tenure           10000 non-null  int64  \n",
            " 8   Balance          10000 non-null  float64\n",
            " 9   NumOfProducts    10000 non-null  int64  \n",
            " 10  HasCrCard        10000 non-null  int64  \n",
            " 11  IsActiveMember   10000 non-null  int64  \n",
            " 12  EstimatedSalary  10000 non-null  float64\n",
            " 13  Exited           10000 non-null  int64  \n",
            "dtypes: float64(2), int64(9), object(3)\n",
            "memory usage: 1.1+ MB\n"
          ]
        }
      ]
    },
    {
      "cell_type": "code",
      "source": [
        "df.describe()"
      ],
      "metadata": {
        "execution": {
          "iopub.status.busy": "2024-03-02T10:15:17.09074Z",
          "iopub.execute_input": "2024-03-02T10:15:17.091199Z",
          "iopub.status.idle": "2024-03-02T10:15:17.134851Z",
          "shell.execute_reply.started": "2024-03-02T10:15:17.091166Z",
          "shell.execute_reply": "2024-03-02T10:15:17.133733Z"
        },
        "trusted": true,
        "colab": {
          "base_uri": "https://localhost:8080/",
          "height": 320
        },
        "id": "QJu17Tho_IFh",
        "outputId": "c7499284-f301-406c-8a4a-7a1169682d6a"
      },
      "execution_count": null,
      "outputs": [
        {
          "output_type": "execute_result",
          "data": {
            "text/plain": [
              "         RowNumber    CustomerId   CreditScore           Age        Tenure  \\\n",
              "count  10000.00000  1.000000e+04  10000.000000  10000.000000  10000.000000   \n",
              "mean    5000.50000  1.569094e+07    650.528800     38.921800      5.012800   \n",
              "std     2886.89568  7.193619e+04     96.653299     10.487806      2.892174   \n",
              "min        1.00000  1.556570e+07    350.000000     18.000000      0.000000   \n",
              "25%     2500.75000  1.562853e+07    584.000000     32.000000      3.000000   \n",
              "50%     5000.50000  1.569074e+07    652.000000     37.000000      5.000000   \n",
              "75%     7500.25000  1.575323e+07    718.000000     44.000000      7.000000   \n",
              "max    10000.00000  1.581569e+07    850.000000     92.000000     10.000000   \n",
              "\n",
              "             Balance  NumOfProducts    HasCrCard  IsActiveMember  \\\n",
              "count   10000.000000   10000.000000  10000.00000    10000.000000   \n",
              "mean    76485.889288       1.530200      0.70550        0.515100   \n",
              "std     62397.405202       0.581654      0.45584        0.499797   \n",
              "min         0.000000       1.000000      0.00000        0.000000   \n",
              "25%         0.000000       1.000000      0.00000        0.000000   \n",
              "50%     97198.540000       1.000000      1.00000        1.000000   \n",
              "75%    127644.240000       2.000000      1.00000        1.000000   \n",
              "max    250898.090000       4.000000      1.00000        1.000000   \n",
              "\n",
              "       EstimatedSalary        Exited  \n",
              "count     10000.000000  10000.000000  \n",
              "mean     100090.239881      0.203700  \n",
              "std       57510.492818      0.402769  \n",
              "min          11.580000      0.000000  \n",
              "25%       51002.110000      0.000000  \n",
              "50%      100193.915000      0.000000  \n",
              "75%      149388.247500      0.000000  \n",
              "max      199992.480000      1.000000  "
            ],
            "text/html": [
              "\n",
              "  <div id=\"df-20c512be-d75f-4ed1-8418-f650cf46271a\" class=\"colab-df-container\">\n",
              "    <div>\n",
              "<style scoped>\n",
              "    .dataframe tbody tr th:only-of-type {\n",
              "        vertical-align: middle;\n",
              "    }\n",
              "\n",
              "    .dataframe tbody tr th {\n",
              "        vertical-align: top;\n",
              "    }\n",
              "\n",
              "    .dataframe thead th {\n",
              "        text-align: right;\n",
              "    }\n",
              "</style>\n",
              "<table border=\"1\" class=\"dataframe\">\n",
              "  <thead>\n",
              "    <tr style=\"text-align: right;\">\n",
              "      <th></th>\n",
              "      <th>RowNumber</th>\n",
              "      <th>CustomerId</th>\n",
              "      <th>CreditScore</th>\n",
              "      <th>Age</th>\n",
              "      <th>Tenure</th>\n",
              "      <th>Balance</th>\n",
              "      <th>NumOfProducts</th>\n",
              "      <th>HasCrCard</th>\n",
              "      <th>IsActiveMember</th>\n",
              "      <th>EstimatedSalary</th>\n",
              "      <th>Exited</th>\n",
              "    </tr>\n",
              "  </thead>\n",
              "  <tbody>\n",
              "    <tr>\n",
              "      <th>count</th>\n",
              "      <td>10000.00000</td>\n",
              "      <td>1.000000e+04</td>\n",
              "      <td>10000.000000</td>\n",
              "      <td>10000.000000</td>\n",
              "      <td>10000.000000</td>\n",
              "      <td>10000.000000</td>\n",
              "      <td>10000.000000</td>\n",
              "      <td>10000.00000</td>\n",
              "      <td>10000.000000</td>\n",
              "      <td>10000.000000</td>\n",
              "      <td>10000.000000</td>\n",
              "    </tr>\n",
              "    <tr>\n",
              "      <th>mean</th>\n",
              "      <td>5000.50000</td>\n",
              "      <td>1.569094e+07</td>\n",
              "      <td>650.528800</td>\n",
              "      <td>38.921800</td>\n",
              "      <td>5.012800</td>\n",
              "      <td>76485.889288</td>\n",
              "      <td>1.530200</td>\n",
              "      <td>0.70550</td>\n",
              "      <td>0.515100</td>\n",
              "      <td>100090.239881</td>\n",
              "      <td>0.203700</td>\n",
              "    </tr>\n",
              "    <tr>\n",
              "      <th>std</th>\n",
              "      <td>2886.89568</td>\n",
              "      <td>7.193619e+04</td>\n",
              "      <td>96.653299</td>\n",
              "      <td>10.487806</td>\n",
              "      <td>2.892174</td>\n",
              "      <td>62397.405202</td>\n",
              "      <td>0.581654</td>\n",
              "      <td>0.45584</td>\n",
              "      <td>0.499797</td>\n",
              "      <td>57510.492818</td>\n",
              "      <td>0.402769</td>\n",
              "    </tr>\n",
              "    <tr>\n",
              "      <th>min</th>\n",
              "      <td>1.00000</td>\n",
              "      <td>1.556570e+07</td>\n",
              "      <td>350.000000</td>\n",
              "      <td>18.000000</td>\n",
              "      <td>0.000000</td>\n",
              "      <td>0.000000</td>\n",
              "      <td>1.000000</td>\n",
              "      <td>0.00000</td>\n",
              "      <td>0.000000</td>\n",
              "      <td>11.580000</td>\n",
              "      <td>0.000000</td>\n",
              "    </tr>\n",
              "    <tr>\n",
              "      <th>25%</th>\n",
              "      <td>2500.75000</td>\n",
              "      <td>1.562853e+07</td>\n",
              "      <td>584.000000</td>\n",
              "      <td>32.000000</td>\n",
              "      <td>3.000000</td>\n",
              "      <td>0.000000</td>\n",
              "      <td>1.000000</td>\n",
              "      <td>0.00000</td>\n",
              "      <td>0.000000</td>\n",
              "      <td>51002.110000</td>\n",
              "      <td>0.000000</td>\n",
              "    </tr>\n",
              "    <tr>\n",
              "      <th>50%</th>\n",
              "      <td>5000.50000</td>\n",
              "      <td>1.569074e+07</td>\n",
              "      <td>652.000000</td>\n",
              "      <td>37.000000</td>\n",
              "      <td>5.000000</td>\n",
              "      <td>97198.540000</td>\n",
              "      <td>1.000000</td>\n",
              "      <td>1.00000</td>\n",
              "      <td>1.000000</td>\n",
              "      <td>100193.915000</td>\n",
              "      <td>0.000000</td>\n",
              "    </tr>\n",
              "    <tr>\n",
              "      <th>75%</th>\n",
              "      <td>7500.25000</td>\n",
              "      <td>1.575323e+07</td>\n",
              "      <td>718.000000</td>\n",
              "      <td>44.000000</td>\n",
              "      <td>7.000000</td>\n",
              "      <td>127644.240000</td>\n",
              "      <td>2.000000</td>\n",
              "      <td>1.00000</td>\n",
              "      <td>1.000000</td>\n",
              "      <td>149388.247500</td>\n",
              "      <td>0.000000</td>\n",
              "    </tr>\n",
              "    <tr>\n",
              "      <th>max</th>\n",
              "      <td>10000.00000</td>\n",
              "      <td>1.581569e+07</td>\n",
              "      <td>850.000000</td>\n",
              "      <td>92.000000</td>\n",
              "      <td>10.000000</td>\n",
              "      <td>250898.090000</td>\n",
              "      <td>4.000000</td>\n",
              "      <td>1.00000</td>\n",
              "      <td>1.000000</td>\n",
              "      <td>199992.480000</td>\n",
              "      <td>1.000000</td>\n",
              "    </tr>\n",
              "  </tbody>\n",
              "</table>\n",
              "</div>\n",
              "    <div class=\"colab-df-buttons\">\n",
              "\n",
              "  <div class=\"colab-df-container\">\n",
              "    <button class=\"colab-df-convert\" onclick=\"convertToInteractive('df-20c512be-d75f-4ed1-8418-f650cf46271a')\"\n",
              "            title=\"Convert this dataframe to an interactive table.\"\n",
              "            style=\"display:none;\">\n",
              "\n",
              "  <svg xmlns=\"http://www.w3.org/2000/svg\" height=\"24px\" viewBox=\"0 -960 960 960\">\n",
              "    <path d=\"M120-120v-720h720v720H120Zm60-500h600v-160H180v160Zm220 220h160v-160H400v160Zm0 220h160v-160H400v160ZM180-400h160v-160H180v160Zm440 0h160v-160H620v160ZM180-180h160v-160H180v160Zm440 0h160v-160H620v160Z\"/>\n",
              "  </svg>\n",
              "    </button>\n",
              "\n",
              "  <style>\n",
              "    .colab-df-container {\n",
              "      display:flex;\n",
              "      gap: 12px;\n",
              "    }\n",
              "\n",
              "    .colab-df-convert {\n",
              "      background-color: #E8F0FE;\n",
              "      border: none;\n",
              "      border-radius: 50%;\n",
              "      cursor: pointer;\n",
              "      display: none;\n",
              "      fill: #1967D2;\n",
              "      height: 32px;\n",
              "      padding: 0 0 0 0;\n",
              "      width: 32px;\n",
              "    }\n",
              "\n",
              "    .colab-df-convert:hover {\n",
              "      background-color: #E2EBFA;\n",
              "      box-shadow: 0px 1px 2px rgba(60, 64, 67, 0.3), 0px 1px 3px 1px rgba(60, 64, 67, 0.15);\n",
              "      fill: #174EA6;\n",
              "    }\n",
              "\n",
              "    .colab-df-buttons div {\n",
              "      margin-bottom: 4px;\n",
              "    }\n",
              "\n",
              "    [theme=dark] .colab-df-convert {\n",
              "      background-color: #3B4455;\n",
              "      fill: #D2E3FC;\n",
              "    }\n",
              "\n",
              "    [theme=dark] .colab-df-convert:hover {\n",
              "      background-color: #434B5C;\n",
              "      box-shadow: 0px 1px 3px 1px rgba(0, 0, 0, 0.15);\n",
              "      filter: drop-shadow(0px 1px 2px rgba(0, 0, 0, 0.3));\n",
              "      fill: #FFFFFF;\n",
              "    }\n",
              "  </style>\n",
              "\n",
              "    <script>\n",
              "      const buttonEl =\n",
              "        document.querySelector('#df-20c512be-d75f-4ed1-8418-f650cf46271a button.colab-df-convert');\n",
              "      buttonEl.style.display =\n",
              "        google.colab.kernel.accessAllowed ? 'block' : 'none';\n",
              "\n",
              "      async function convertToInteractive(key) {\n",
              "        const element = document.querySelector('#df-20c512be-d75f-4ed1-8418-f650cf46271a');\n",
              "        const dataTable =\n",
              "          await google.colab.kernel.invokeFunction('convertToInteractive',\n",
              "                                                    [key], {});\n",
              "        if (!dataTable) return;\n",
              "\n",
              "        const docLinkHtml = 'Like what you see? Visit the ' +\n",
              "          '<a target=\"_blank\" href=https://colab.research.google.com/notebooks/data_table.ipynb>data table notebook</a>'\n",
              "          + ' to learn more about interactive tables.';\n",
              "        element.innerHTML = '';\n",
              "        dataTable['output_type'] = 'display_data';\n",
              "        await google.colab.output.renderOutput(dataTable, element);\n",
              "        const docLink = document.createElement('div');\n",
              "        docLink.innerHTML = docLinkHtml;\n",
              "        element.appendChild(docLink);\n",
              "      }\n",
              "    </script>\n",
              "  </div>\n",
              "\n",
              "\n",
              "<div id=\"df-5939b1fd-ff5a-4911-9227-3466d6728c32\">\n",
              "  <button class=\"colab-df-quickchart\" onclick=\"quickchart('df-5939b1fd-ff5a-4911-9227-3466d6728c32')\"\n",
              "            title=\"Suggest charts\"\n",
              "            style=\"display:none;\">\n",
              "\n",
              "<svg xmlns=\"http://www.w3.org/2000/svg\" height=\"24px\"viewBox=\"0 0 24 24\"\n",
              "     width=\"24px\">\n",
              "    <g>\n",
              "        <path d=\"M19 3H5c-1.1 0-2 .9-2 2v14c0 1.1.9 2 2 2h14c1.1 0 2-.9 2-2V5c0-1.1-.9-2-2-2zM9 17H7v-7h2v7zm4 0h-2V7h2v10zm4 0h-2v-4h2v4z\"/>\n",
              "    </g>\n",
              "</svg>\n",
              "  </button>\n",
              "\n",
              "<style>\n",
              "  .colab-df-quickchart {\n",
              "      --bg-color: #E8F0FE;\n",
              "      --fill-color: #1967D2;\n",
              "      --hover-bg-color: #E2EBFA;\n",
              "      --hover-fill-color: #174EA6;\n",
              "      --disabled-fill-color: #AAA;\n",
              "      --disabled-bg-color: #DDD;\n",
              "  }\n",
              "\n",
              "  [theme=dark] .colab-df-quickchart {\n",
              "      --bg-color: #3B4455;\n",
              "      --fill-color: #D2E3FC;\n",
              "      --hover-bg-color: #434B5C;\n",
              "      --hover-fill-color: #FFFFFF;\n",
              "      --disabled-bg-color: #3B4455;\n",
              "      --disabled-fill-color: #666;\n",
              "  }\n",
              "\n",
              "  .colab-df-quickchart {\n",
              "    background-color: var(--bg-color);\n",
              "    border: none;\n",
              "    border-radius: 50%;\n",
              "    cursor: pointer;\n",
              "    display: none;\n",
              "    fill: var(--fill-color);\n",
              "    height: 32px;\n",
              "    padding: 0;\n",
              "    width: 32px;\n",
              "  }\n",
              "\n",
              "  .colab-df-quickchart:hover {\n",
              "    background-color: var(--hover-bg-color);\n",
              "    box-shadow: 0 1px 2px rgba(60, 64, 67, 0.3), 0 1px 3px 1px rgba(60, 64, 67, 0.15);\n",
              "    fill: var(--button-hover-fill-color);\n",
              "  }\n",
              "\n",
              "  .colab-df-quickchart-complete:disabled,\n",
              "  .colab-df-quickchart-complete:disabled:hover {\n",
              "    background-color: var(--disabled-bg-color);\n",
              "    fill: var(--disabled-fill-color);\n",
              "    box-shadow: none;\n",
              "  }\n",
              "\n",
              "  .colab-df-spinner {\n",
              "    border: 2px solid var(--fill-color);\n",
              "    border-color: transparent;\n",
              "    border-bottom-color: var(--fill-color);\n",
              "    animation:\n",
              "      spin 1s steps(1) infinite;\n",
              "  }\n",
              "\n",
              "  @keyframes spin {\n",
              "    0% {\n",
              "      border-color: transparent;\n",
              "      border-bottom-color: var(--fill-color);\n",
              "      border-left-color: var(--fill-color);\n",
              "    }\n",
              "    20% {\n",
              "      border-color: transparent;\n",
              "      border-left-color: var(--fill-color);\n",
              "      border-top-color: var(--fill-color);\n",
              "    }\n",
              "    30% {\n",
              "      border-color: transparent;\n",
              "      border-left-color: var(--fill-color);\n",
              "      border-top-color: var(--fill-color);\n",
              "      border-right-color: var(--fill-color);\n",
              "    }\n",
              "    40% {\n",
              "      border-color: transparent;\n",
              "      border-right-color: var(--fill-color);\n",
              "      border-top-color: var(--fill-color);\n",
              "    }\n",
              "    60% {\n",
              "      border-color: transparent;\n",
              "      border-right-color: var(--fill-color);\n",
              "    }\n",
              "    80% {\n",
              "      border-color: transparent;\n",
              "      border-right-color: var(--fill-color);\n",
              "      border-bottom-color: var(--fill-color);\n",
              "    }\n",
              "    90% {\n",
              "      border-color: transparent;\n",
              "      border-bottom-color: var(--fill-color);\n",
              "    }\n",
              "  }\n",
              "</style>\n",
              "\n",
              "  <script>\n",
              "    async function quickchart(key) {\n",
              "      const quickchartButtonEl =\n",
              "        document.querySelector('#' + key + ' button');\n",
              "      quickchartButtonEl.disabled = true;  // To prevent multiple clicks.\n",
              "      quickchartButtonEl.classList.add('colab-df-spinner');\n",
              "      try {\n",
              "        const charts = await google.colab.kernel.invokeFunction(\n",
              "            'suggestCharts', [key], {});\n",
              "      } catch (error) {\n",
              "        console.error('Error during call to suggestCharts:', error);\n",
              "      }\n",
              "      quickchartButtonEl.classList.remove('colab-df-spinner');\n",
              "      quickchartButtonEl.classList.add('colab-df-quickchart-complete');\n",
              "    }\n",
              "    (() => {\n",
              "      let quickchartButtonEl =\n",
              "        document.querySelector('#df-5939b1fd-ff5a-4911-9227-3466d6728c32 button');\n",
              "      quickchartButtonEl.style.display =\n",
              "        google.colab.kernel.accessAllowed ? 'block' : 'none';\n",
              "    })();\n",
              "  </script>\n",
              "</div>\n",
              "\n",
              "    </div>\n",
              "  </div>\n"
            ],
            "application/vnd.google.colaboratory.intrinsic+json": {
              "type": "dataframe",
              "summary": "{\n  \"name\": \"df\",\n  \"rows\": 8,\n  \"fields\": [\n    {\n      \"column\": \"RowNumber\",\n      \"properties\": {\n        \"dtype\": \"number\",\n        \"std\": 3603.743586536124,\n        \"min\": 1.0,\n        \"max\": 10000.0,\n        \"num_unique_values\": 6,\n        \"samples\": [\n          10000.0,\n          5000.5,\n          7500.25\n        ],\n        \"semantic_type\": \"\",\n        \"description\": \"\"\n      }\n    },\n    {\n      \"column\": \"CustomerId\",\n      \"properties\": {\n        \"dtype\": \"number\",\n        \"std\": 7244870.561655487,\n        \"min\": 10000.0,\n        \"max\": 15815690.0,\n        \"num_unique_values\": 8,\n        \"samples\": [\n          15690940.5694,\n          15690738.0,\n          10000.0\n        ],\n        \"semantic_type\": \"\",\n        \"description\": \"\"\n      }\n    },\n    {\n      \"column\": \"CreditScore\",\n      \"properties\": {\n        \"dtype\": \"number\",\n        \"std\": 3346.7223968706257,\n        \"min\": 96.65329873613035,\n        \"max\": 10000.0,\n        \"num_unique_values\": 8,\n        \"samples\": [\n          650.5288,\n          652.0,\n          10000.0\n        ],\n        \"semantic_type\": \"\",\n        \"description\": \"\"\n      }\n    },\n    {\n      \"column\": \"Age\",\n      \"properties\": {\n        \"dtype\": \"number\",\n        \"std\": 3521.859127755016,\n        \"min\": 10.487806451704609,\n        \"max\": 10000.0,\n        \"num_unique_values\": 8,\n        \"samples\": [\n          38.9218,\n          37.0,\n          10000.0\n        ],\n        \"semantic_type\": \"\",\n        \"description\": \"\"\n      }\n    },\n    {\n      \"column\": \"Tenure\",\n      \"properties\": {\n        \"dtype\": \"number\",\n        \"std\": 3533.8732032133667,\n        \"min\": 0.0,\n        \"max\": 10000.0,\n        \"num_unique_values\": 8,\n        \"samples\": [\n          5.0128,\n          5.0,\n          10000.0\n        ],\n        \"semantic_type\": \"\",\n        \"description\": \"\"\n      }\n    },\n    {\n      \"column\": \"Balance\",\n      \"properties\": {\n        \"dtype\": \"number\",\n        \"std\": 84316.21503683121,\n        \"min\": 0.0,\n        \"max\": 250898.09,\n        \"num_unique_values\": 7,\n        \"samples\": [\n          10000.0,\n          76485.889288,\n          127644.24\n        ],\n        \"semantic_type\": \"\",\n        \"description\": \"\"\n      }\n    },\n    {\n      \"column\": \"NumOfProducts\",\n      \"properties\": {\n        \"dtype\": \"number\",\n        \"std\": 3534.9728350092923,\n        \"min\": 0.5816543579989906,\n        \"max\": 10000.0,\n        \"num_unique_values\": 6,\n        \"samples\": [\n          10000.0,\n          1.5302,\n          4.0\n        ],\n        \"semantic_type\": \"\",\n        \"description\": \"\"\n      }\n    },\n    {\n      \"column\": \"HasCrCard\",\n      \"properties\": {\n        \"dtype\": \"number\",\n        \"std\": 3535.3237513853414,\n        \"min\": 0.0,\n        \"max\": 10000.0,\n        \"num_unique_values\": 5,\n        \"samples\": [\n          0.7055,\n          1.0,\n          0.4558404644751333\n        ],\n        \"semantic_type\": \"\",\n        \"description\": \"\"\n      }\n    },\n    {\n      \"column\": \"IsActiveMember\",\n      \"properties\": {\n        \"dtype\": \"number\",\n        \"std\": 3535.3311475099704,\n        \"min\": 0.0,\n        \"max\": 10000.0,\n        \"num_unique_values\": 5,\n        \"samples\": [\n          0.5151,\n          1.0,\n          0.49979692845891893\n        ],\n        \"semantic_type\": \"\",\n        \"description\": \"\"\n      }\n    },\n    {\n      \"column\": \"EstimatedSalary\",\n      \"properties\": {\n        \"dtype\": \"number\",\n        \"std\": 68211.65700170657,\n        \"min\": 11.58,\n        \"max\": 199992.48,\n        \"num_unique_values\": 8,\n        \"samples\": [\n          100090.239881,\n          100193.915,\n          10000.0\n        ],\n        \"semantic_type\": \"\",\n        \"description\": \"\"\n      }\n    },\n    {\n      \"column\": \"Exited\",\n      \"properties\": {\n        \"dtype\": \"number\",\n        \"std\": 3535.452783887065,\n        \"min\": 0.0,\n        \"max\": 10000.0,\n        \"num_unique_values\": 5,\n        \"samples\": [\n          0.2037,\n          1.0,\n          0.4027685839948609\n        ],\n        \"semantic_type\": \"\",\n        \"description\": \"\"\n      }\n    }\n  ]\n}"
            }
          },
          "metadata": {},
          "execution_count": 5
        }
      ]
    },
    {
      "cell_type": "code",
      "source": [
        "df.duplicated().sum()"
      ],
      "metadata": {
        "execution": {
          "iopub.status.busy": "2024-03-02T10:15:17.267866Z",
          "iopub.execute_input": "2024-03-02T10:15:17.268354Z",
          "iopub.status.idle": "2024-03-02T10:15:17.284495Z",
          "shell.execute_reply.started": "2024-03-02T10:15:17.268315Z",
          "shell.execute_reply": "2024-03-02T10:15:17.283318Z"
        },
        "trusted": true,
        "colab": {
          "base_uri": "https://localhost:8080/"
        },
        "id": "B6OFzGhz_IFh",
        "outputId": "2de2fee8-80f6-4331-c0c5-5b8334e6bd0e"
      },
      "execution_count": null,
      "outputs": [
        {
          "output_type": "execute_result",
          "data": {
            "text/plain": [
              "0"
            ]
          },
          "metadata": {},
          "execution_count": 6
        }
      ]
    },
    {
      "cell_type": "code",
      "source": [
        "X=df.iloc[:,3:]\n",
        "y=df.iloc[:,-1]\n",
        "X.drop(columns=['Exited'],inplace=True)"
      ],
      "metadata": {
        "execution": {
          "iopub.status.busy": "2024-03-02T10:15:17.472219Z",
          "iopub.execute_input": "2024-03-02T10:15:17.472599Z",
          "iopub.status.idle": "2024-03-02T10:15:17.481869Z",
          "shell.execute_reply.started": "2024-03-02T10:15:17.47257Z",
          "shell.execute_reply": "2024-03-02T10:15:17.480424Z"
        },
        "trusted": true,
        "id": "BszBwyM__IFh"
      },
      "execution_count": null,
      "outputs": []
    },
    {
      "cell_type": "code",
      "source": [
        "df['Geography'].value_counts()"
      ],
      "metadata": {
        "execution": {
          "iopub.status.busy": "2024-03-02T10:15:17.759692Z",
          "iopub.execute_input": "2024-03-02T10:15:17.760143Z",
          "iopub.status.idle": "2024-03-02T10:15:17.770086Z",
          "shell.execute_reply.started": "2024-03-02T10:15:17.76011Z",
          "shell.execute_reply": "2024-03-02T10:15:17.768597Z"
        },
        "trusted": true,
        "colab": {
          "base_uri": "https://localhost:8080/"
        },
        "id": "9bZQtRTd_IFh",
        "outputId": "a9f74428-eb1d-4c4e-e0f8-02ab77645260"
      },
      "execution_count": null,
      "outputs": [
        {
          "output_type": "execute_result",
          "data": {
            "text/plain": [
              "France     5014\n",
              "Germany    2509\n",
              "Spain      2477\n",
              "Name: Geography, dtype: int64"
            ]
          },
          "metadata": {},
          "execution_count": 8
        }
      ]
    },
    {
      "cell_type": "code",
      "source": [
        "from sklearn.preprocessing import OneHotEncoder\n",
        "oh=OneHotEncoder()\n",
        "data=oh.fit_transform(df['Geography'].values.reshape(-1, 1))\n",
        "df_1 = pd.DataFrame(data.toarray(), columns=oh.get_feature_names_out(['Geography']))\n",
        "X = pd.concat([df_1, X], axis=1)"
      ],
      "metadata": {
        "execution": {
          "iopub.status.busy": "2024-03-02T10:15:18.089203Z",
          "iopub.execute_input": "2024-03-02T10:15:18.08965Z",
          "iopub.status.idle": "2024-03-02T10:15:18.102957Z",
          "shell.execute_reply.started": "2024-03-02T10:15:18.089616Z",
          "shell.execute_reply": "2024-03-02T10:15:18.101665Z"
        },
        "trusted": true,
        "id": "g1WXpbzL_IFh"
      },
      "execution_count": null,
      "outputs": []
    },
    {
      "cell_type": "code",
      "source": [
        "X.drop(columns=['Geography'],inplace=True)"
      ],
      "metadata": {
        "execution": {
          "iopub.status.busy": "2024-03-02T10:15:18.492023Z",
          "iopub.execute_input": "2024-03-02T10:15:18.492414Z",
          "iopub.status.idle": "2024-03-02T10:15:18.499126Z",
          "shell.execute_reply.started": "2024-03-02T10:15:18.492385Z",
          "shell.execute_reply": "2024-03-02T10:15:18.497737Z"
        },
        "trusted": true,
        "id": "lu7N-tWC_IFh"
      },
      "execution_count": null,
      "outputs": []
    },
    {
      "cell_type": "code",
      "source": [
        "X['Gender']= df['Gender'].map({'Female': 1, 'Male': 0})"
      ],
      "metadata": {
        "execution": {
          "iopub.status.busy": "2024-03-02T10:15:18.842059Z",
          "iopub.execute_input": "2024-03-02T10:15:18.842493Z",
          "iopub.status.idle": "2024-03-02T10:15:18.849815Z",
          "shell.execute_reply.started": "2024-03-02T10:15:18.842458Z",
          "shell.execute_reply": "2024-03-02T10:15:18.848279Z"
        },
        "trusted": true,
        "id": "fgGnWBqm_IFi"
      },
      "execution_count": null,
      "outputs": []
    },
    {
      "cell_type": "code",
      "source": [
        "from sklearn.preprocessing import StandardScaler\n",
        "scaler = StandardScaler()\n",
        "X = scaler.fit_transform(X)"
      ],
      "metadata": {
        "execution": {
          "iopub.status.busy": "2024-03-02T10:15:19.508535Z",
          "iopub.execute_input": "2024-03-02T10:15:19.508977Z",
          "iopub.status.idle": "2024-03-02T10:15:19.52298Z",
          "shell.execute_reply.started": "2024-03-02T10:15:19.508945Z",
          "shell.execute_reply": "2024-03-02T10:15:19.521519Z"
        },
        "trusted": true,
        "id": "y3W-_-zm_IFi"
      },
      "execution_count": null,
      "outputs": []
    },
    {
      "cell_type": "code",
      "source": [
        "X"
      ],
      "metadata": {
        "execution": {
          "iopub.status.busy": "2024-03-02T10:15:20.162237Z",
          "iopub.execute_input": "2024-03-02T10:15:20.162621Z",
          "iopub.status.idle": "2024-03-02T10:15:20.169506Z",
          "shell.execute_reply.started": "2024-03-02T10:15:20.162591Z",
          "shell.execute_reply": "2024-03-02T10:15:20.168298Z"
        },
        "trusted": true,
        "colab": {
          "base_uri": "https://localhost:8080/"
        },
        "id": "77gs_DLN_IFi",
        "outputId": "eb425dcc-b1d5-489f-d02f-004e3542acde"
      },
      "execution_count": null,
      "outputs": [
        {
          "output_type": "execute_result",
          "data": {
            "text/plain": [
              "array([[ 0.99720391, -0.57873591, -0.57380915, ...,  0.64609167,\n",
              "         0.97024255,  0.02188649],\n",
              "       [-1.00280393, -0.57873591,  1.74273971, ..., -1.54776799,\n",
              "         0.97024255,  0.21653375],\n",
              "       [ 0.99720391, -0.57873591, -0.57380915, ...,  0.64609167,\n",
              "        -1.03067011,  0.2406869 ],\n",
              "       ...,\n",
              "       [ 0.99720391, -0.57873591, -0.57380915, ..., -1.54776799,\n",
              "         0.97024255, -1.00864308],\n",
              "       [-1.00280393,  1.72790383, -0.57380915, ...,  0.64609167,\n",
              "        -1.03067011, -0.12523071],\n",
              "       [ 0.99720391, -0.57873591, -0.57380915, ...,  0.64609167,\n",
              "        -1.03067011, -1.07636976]])"
            ]
          },
          "metadata": {},
          "execution_count": 13
        }
      ]
    },
    {
      "cell_type": "code",
      "source": [
        "from sklearn.model_selection import train_test_split\n",
        "X_train, X_test, y_train, y_test = train_test_split(X, y, test_size=0.2, random_state=42)"
      ],
      "metadata": {
        "execution": {
          "iopub.status.busy": "2024-03-02T10:15:21.991679Z",
          "iopub.execute_input": "2024-03-02T10:15:21.992179Z",
          "iopub.status.idle": "2024-03-02T10:15:22.002537Z",
          "shell.execute_reply.started": "2024-03-02T10:15:21.992144Z",
          "shell.execute_reply": "2024-03-02T10:15:22.001207Z"
        },
        "trusted": true,
        "id": "tHdXR1UU_IFi"
      },
      "execution_count": null,
      "outputs": []
    },
    {
      "cell_type": "code",
      "source": [
        "import matplotlib.pyplot as plt\n",
        "import seaborn as sns\n",
        "from sklearn.preprocessing import StandardScaler\n",
        "from sklearn.model_selection import train_test_split\n",
        "import tensorflow\n",
        "from tensorflow import keras\n",
        "from keras import Sequential\n",
        "from keras.layers import Dense,Dropout,BatchNormalization\n",
        "from keras.callbacks import EarlyStopping\n",
        "from sklearn.metrics import confusion_matrix, accuracy_score"
      ],
      "metadata": {
        "execution": {
          "iopub.status.busy": "2024-03-02T10:15:23.526222Z",
          "iopub.execute_input": "2024-03-02T10:15:23.52663Z",
          "iopub.status.idle": "2024-03-02T10:15:23.533413Z",
          "shell.execute_reply.started": "2024-03-02T10:15:23.526598Z",
          "shell.execute_reply": "2024-03-02T10:15:23.531956Z"
        },
        "trusted": true,
        "id": "Cvf3BZyf_IFi"
      },
      "execution_count": null,
      "outputs": []
    },
    {
      "cell_type": "markdown",
      "source": [
        "# ANN MODEL"
      ],
      "metadata": {
        "id": "g1VByi0__IFj"
      }
    },
    {
      "cell_type": "code",
      "source": [
        "clf = Sequential()\n",
        "clf.add(Dense(units=10, kernel_initializer = \"he_normal\", activation = \"tanh\", input_dim = 12))\n",
        "clf.add(Dense(units=10, kernel_initializer = \"he_normal\", activation = \"relu\"))\n",
        "clf.add(Dense(units=1, kernel_initializer = \"glorot_uniform\", activation = \"sigmoid\"))\n",
        "\n",
        "clf.compile(optimizer = \"adam\", loss = \"binary_crossentropy\", metrics = [\"accuracy\"])\n",
        "\n",
        "history = model = clf.fit(X_train, y_train, validation_split=0.33, batch_size = 10, epochs = 30)"
      ],
      "metadata": {
        "execution": {
          "iopub.status.busy": "2024-03-02T10:16:34.702987Z",
          "iopub.execute_input": "2024-03-02T10:16:34.703373Z",
          "iopub.status.idle": "2024-03-02T10:17:05.234669Z",
          "shell.execute_reply.started": "2024-03-02T10:16:34.703344Z",
          "shell.execute_reply": "2024-03-02T10:17:05.233369Z"
        },
        "trusted": true,
        "colab": {
          "base_uri": "https://localhost:8080/"
        },
        "id": "7PR77qCY_IFm",
        "outputId": "d5f3ae6e-6999-4b48-e350-a6c98a2f0d7b"
      },
      "execution_count": null,
      "outputs": [
        {
          "output_type": "stream",
          "name": "stdout",
          "text": [
            "Epoch 1/30\n",
            "536/536 [==============================] - 2s 3ms/step - loss: 0.5339 - accuracy: 0.7274 - val_loss: 0.4573 - val_accuracy: 0.7864\n",
            "Epoch 2/30\n",
            "536/536 [==============================] - 2s 3ms/step - loss: 0.4416 - accuracy: 0.7960 - val_loss: 0.4402 - val_accuracy: 0.7948\n",
            "Epoch 3/30\n",
            "536/536 [==============================] - 2s 3ms/step - loss: 0.4276 - accuracy: 0.8028 - val_loss: 0.4317 - val_accuracy: 0.8084\n",
            "Epoch 4/30\n",
            "536/536 [==============================] - 2s 4ms/step - loss: 0.4177 - accuracy: 0.8117 - val_loss: 0.4208 - val_accuracy: 0.8198\n",
            "Epoch 5/30\n",
            "536/536 [==============================] - 1s 3ms/step - loss: 0.4072 - accuracy: 0.8190 - val_loss: 0.4108 - val_accuracy: 0.8289\n",
            "Epoch 6/30\n",
            "536/536 [==============================] - 1s 3ms/step - loss: 0.3953 - accuracy: 0.8289 - val_loss: 0.3994 - val_accuracy: 0.8357\n",
            "Epoch 7/30\n",
            "536/536 [==============================] - 2s 3ms/step - loss: 0.3830 - accuracy: 0.8373 - val_loss: 0.3890 - val_accuracy: 0.8402\n",
            "Epoch 8/30\n",
            "536/536 [==============================] - 2s 3ms/step - loss: 0.3708 - accuracy: 0.8470 - val_loss: 0.3803 - val_accuracy: 0.8425\n",
            "Epoch 9/30\n",
            "536/536 [==============================] - 1s 2ms/step - loss: 0.3600 - accuracy: 0.8526 - val_loss: 0.3722 - val_accuracy: 0.8489\n",
            "Epoch 10/30\n",
            "536/536 [==============================] - 2s 3ms/step - loss: 0.3508 - accuracy: 0.8584 - val_loss: 0.3668 - val_accuracy: 0.8501\n",
            "Epoch 11/30\n",
            "536/536 [==============================] - 2s 4ms/step - loss: 0.3438 - accuracy: 0.8608 - val_loss: 0.3636 - val_accuracy: 0.8519\n",
            "Epoch 12/30\n",
            "536/536 [==============================] - 1s 3ms/step - loss: 0.3400 - accuracy: 0.8643 - val_loss: 0.3615 - val_accuracy: 0.8512\n",
            "Epoch 13/30\n",
            "536/536 [==============================] - 2s 3ms/step - loss: 0.3370 - accuracy: 0.8660 - val_loss: 0.3593 - val_accuracy: 0.8512\n",
            "Epoch 14/30\n",
            "536/536 [==============================] - 2s 3ms/step - loss: 0.3349 - accuracy: 0.8664 - val_loss: 0.3582 - val_accuracy: 0.8501\n",
            "Epoch 15/30\n",
            "536/536 [==============================] - 2s 3ms/step - loss: 0.3328 - accuracy: 0.8647 - val_loss: 0.3571 - val_accuracy: 0.8466\n",
            "Epoch 16/30\n",
            "536/536 [==============================] - 2s 3ms/step - loss: 0.3316 - accuracy: 0.8673 - val_loss: 0.3583 - val_accuracy: 0.8512\n",
            "Epoch 17/30\n",
            "536/536 [==============================] - 1s 3ms/step - loss: 0.3303 - accuracy: 0.8666 - val_loss: 0.3579 - val_accuracy: 0.8523\n",
            "Epoch 18/30\n",
            "536/536 [==============================] - 2s 3ms/step - loss: 0.3301 - accuracy: 0.8686 - val_loss: 0.3563 - val_accuracy: 0.8516\n",
            "Epoch 19/30\n",
            "536/536 [==============================] - 2s 4ms/step - loss: 0.3281 - accuracy: 0.8692 - val_loss: 0.3571 - val_accuracy: 0.8493\n",
            "Epoch 20/30\n",
            "536/536 [==============================] - 2s 3ms/step - loss: 0.3280 - accuracy: 0.8673 - val_loss: 0.3566 - val_accuracy: 0.8508\n",
            "Epoch 21/30\n",
            "536/536 [==============================] - 2s 3ms/step - loss: 0.3266 - accuracy: 0.8681 - val_loss: 0.3552 - val_accuracy: 0.8519\n",
            "Epoch 22/30\n",
            "536/536 [==============================] - 2s 3ms/step - loss: 0.3257 - accuracy: 0.8677 - val_loss: 0.3533 - val_accuracy: 0.8531\n",
            "Epoch 23/30\n",
            "536/536 [==============================] - 2s 3ms/step - loss: 0.3254 - accuracy: 0.8681 - val_loss: 0.3548 - val_accuracy: 0.8508\n",
            "Epoch 24/30\n",
            "536/536 [==============================] - 1s 2ms/step - loss: 0.3241 - accuracy: 0.8701 - val_loss: 0.3544 - val_accuracy: 0.8504\n",
            "Epoch 25/30\n",
            "536/536 [==============================] - 1s 3ms/step - loss: 0.3240 - accuracy: 0.8677 - val_loss: 0.3538 - val_accuracy: 0.8508\n",
            "Epoch 26/30\n",
            "536/536 [==============================] - 2s 4ms/step - loss: 0.3234 - accuracy: 0.8707 - val_loss: 0.3539 - val_accuracy: 0.8501\n",
            "Epoch 27/30\n",
            "536/536 [==============================] - 2s 3ms/step - loss: 0.3230 - accuracy: 0.8688 - val_loss: 0.3538 - val_accuracy: 0.8512\n",
            "Epoch 28/30\n",
            "536/536 [==============================] - 2s 3ms/step - loss: 0.3220 - accuracy: 0.8690 - val_loss: 0.3544 - val_accuracy: 0.8504\n",
            "Epoch 29/30\n",
            "536/536 [==============================] - 2s 3ms/step - loss: 0.3216 - accuracy: 0.8690 - val_loss: 0.3539 - val_accuracy: 0.8512\n",
            "Epoch 30/30\n",
            "536/536 [==============================] - 1s 2ms/step - loss: 0.3208 - accuracy: 0.8712 - val_loss: 0.3553 - val_accuracy: 0.8504\n"
          ]
        }
      ]
    },
    {
      "cell_type": "code",
      "source": [
        "plt.figure(figsize = (8,6))\n",
        "plt.plot(model.history[\"accuracy\"],label = \"Accuracy\")\n",
        "plt.plot(model.history[\"val_accuracy\"],label = \"Val_Accuracy\")\n",
        "plt.legend()\n",
        "plt.title(\"Overfitting: Accuracy VS Val_Accuracy\")\n",
        "plt.xlabel(\"Epochs\")\n",
        "plt.ylabel(\"Accuracy\")\n",
        "plt.show()"
      ],
      "metadata": {
        "execution": {
          "iopub.status.busy": "2024-03-02T10:17:05.238255Z",
          "iopub.execute_input": "2024-03-02T10:17:05.238607Z",
          "iopub.status.idle": "2024-03-02T10:17:05.571894Z",
          "shell.execute_reply.started": "2024-03-02T10:17:05.238579Z",
          "shell.execute_reply": "2024-03-02T10:17:05.57071Z"
        },
        "trusted": true,
        "colab": {
          "base_uri": "https://localhost:8080/",
          "height": 540
        },
        "id": "_vImbYAG_IFn",
        "outputId": "edf3ac59-59bd-474a-e8e8-f4a127e0a823"
      },
      "execution_count": null,
      "outputs": [
        {
          "output_type": "display_data",
          "data": {
            "text/plain": [
              "<Figure size 800x600 with 1 Axes>"
            ],
            "image/png": "[encoded data removed]"
          },
          "metadata": {}
        }
      ]
    },
    {
      "cell_type": "code",
      "source": [
        "def build_model(hp):\n",
        "    model = Sequential()\n",
        "    count = 0\n",
        "\n",
        "    for i in range(hp.Int(\"num_layers\", min_value=1, max_value=10)):\n",
        "\n",
        "        if count == 0:\n",
        "            model.add(Dense(\n",
        "                hp.Int(\"units\" + str(i), min_value=8, max_value=128, step=8),\n",
        "                activation=hp.Choice(\"activation\" + str(i), values=[\"relu\", \"tanh\", \"sigmoid\"]),\n",
        "                input_dim=12\n",
        "            ))\n",
        "            model.add(BatchNormalization())\n",
        "            model.add(Dropout(hp.Choice(\"dropout\" + str(i), values=[0.1, 0.2, 0.3, 0.4, 0.5, 0.6, 0.7, 0.8, 0.9])))\n",
        "        else:\n",
        "            model.add(Dense(\n",
        "                hp.Int(\"units\" + str(i), min_value=8, max_value=128, step=8),\n",
        "                activation=hp.Choice(\"activation\" + str(i), values=[\"relu\", \"tanh\", \"sigmoid\"])\n",
        "            ))\n",
        "            model.add(BatchNormalization())\n",
        "            model.add(Dropout(hp.Choice(\"dropout\" + str(i), values=[0.1, 0.2, 0.3, 0.4, 0.5, 0.6, 0.7, 0.8, 0.9])))\n",
        "\n",
        "        count += 1\n",
        "\n",
        "    model.add(Dense(1, activation=\"sigmoid\"))\n",
        "    model.compile(\n",
        "        optimizer=keras.optimizers.get(hp.Choice(\"optimizer\", values=[\"rmsprop\", \"adam\", \"sgd\", \"nadam\", \"adadelta\"])),\n",
        "        loss=\"binary_crossentropy\",\n",
        "        metrics=[\"accuracy\"]\n",
        "    )\n",
        "\n",
        "    return model"
      ],
      "metadata": {
        "execution": {
          "iopub.status.busy": "2024-03-02T10:18:53.64895Z",
          "iopub.execute_input": "2024-03-02T10:18:53.649348Z",
          "iopub.status.idle": "2024-03-02T10:18:53.660377Z",
          "shell.execute_reply.started": "2024-03-02T10:18:53.649313Z",
          "shell.execute_reply": "2024-03-02T10:18:53.65922Z"
        },
        "trusted": true,
        "id": "FIHC1Nq-_IFn"
      },
      "execution_count": null,
      "outputs": []
    },
    {
      "cell_type": "code",
      "source": [
        "!pip install keras-tuner --upgrade"
      ],
      "metadata": {
        "colab": {
          "base_uri": "https://localhost:8080/"
        },
        "id": "ePADlioySw0Y",
        "outputId": "a0b5c348-b77b-4193-f849-d6cbb758454e"
      },
      "execution_count": 31,
      "outputs": [
        {
          "output_type": "stream",
          "name": "stdout",
          "text": [
            "Collecting keras-tuner\n",
            "  Downloading keras_tuner-1.4.7-py3-none-any.whl (129 kB)\n",
            "\u001b[2K     \u001b[90m━━━━━━━━━━━━━━━━━━━━━━━━━━━━━━━━━━━━━━━━\u001b[0m \u001b[32m129.1/129.1 kB\u001b[0m \u001b[31m1.4 MB/s\u001b[0m eta \u001b[36m0:00:00\u001b[0m\n",
            "\u001b[?25hRequirement already satisfied: keras in /usr/local/lib/python3.10/dist-packages (from keras-tuner) (2.15.0)\n",
            "Requirement already satisfied: packaging in /usr/local/lib/python3.10/dist-packages (from keras-tuner) (24.0)\n",
            "Requirement already satisfied: requests in /usr/local/lib/python3.10/dist-packages (from keras-tuner) (2.31.0)\n",
            "Collecting kt-legacy (from keras-tuner)\n",
            "  Downloading kt_legacy-1.0.5-py3-none-any.whl (9.6 kB)\n",
            "Requirement already satisfied: charset-normalizer<4,>=2 in /usr/local/lib/python3.10/dist-packages (from requests->keras-tuner) (3.3.2)\n",
            "Requirement already satisfied: idna<4,>=2.5 in /usr/local/lib/python3.10/dist-packages (from requests->keras-tuner) (3.6)\n",
            "Requirement already satisfied: urllib3<3,>=1.21.1 in /usr/local/lib/python3.10/dist-packages (from requests->keras-tuner) (2.0.7)\n",
            "Requirement already satisfied: certifi>=2017.4.17 in /usr/local/lib/python3.10/dist-packages (from requests->keras-tuner) (2024.2.2)\n",
            "Installing collected packages: kt-legacy, keras-tuner\n",
            "Successfully installed keras-tuner-1.4.7 kt-legacy-1.0.5\n"
          ]
        }
      ]
    },
    {
      "cell_type": "code",
      "source": [
        "from kerastuner import RandomSearch"
      ],
      "metadata": {
        "colab": {
          "base_uri": "https://localhost:8080/"
        },
        "id": "_NHa5824TXYR",
        "outputId": "983ee813-e038-4315-c98f-02a1a2c79052"
      },
      "execution_count": 33,
      "outputs": [
        {
          "output_type": "stream",
          "name": "stderr",
          "text": [
            "<ipython-input-33-7efa24979c35>:1: DeprecationWarning: `import kerastuner` is deprecated, please use `import keras_tuner`.\n",
            "  from kerastuner import RandomSearch\n"
          ]
        }
      ]
    },
    {
      "cell_type": "code",
      "source": [
        "tuner = RandomSearch(\n",
        "    build_model,\n",
        "    objective = \"val_accuracy\",\n",
        "    max_trials = 5,\n",
        "    executions_per_trial = 3,\n",
        "    directory = \"mydir\",\n",
        "    project_name = \"Fine_Tune1\"\n",
        ")"
      ],
      "metadata": {
        "execution": {
          "iopub.status.busy": "2024-03-02T10:18:56.239653Z",
          "iopub.execute_input": "2024-03-02T10:18:56.240129Z",
          "iopub.status.idle": "2024-03-02T10:18:56.304195Z",
          "shell.execute_reply.started": "2024-03-02T10:18:56.240094Z",
          "shell.execute_reply": "2024-03-02T10:18:56.303219Z"
        },
        "trusted": true,
        "id": "zvkGeNx5_IFo"
      },
      "execution_count": 34,
      "outputs": []
    },
    {
      "cell_type": "code",
      "source": [
        "tuner.search(\n",
        "    X_train, y_train,\n",
        "    epochs=10,\n",
        "    validation_data=(X_test, y_test)\n",
        ")"
      ],
      "metadata": {
        "execution": {
          "iopub.status.busy": "2024-03-02T10:18:57.816183Z",
          "iopub.execute_input": "2024-03-02T10:18:57.816556Z",
          "iopub.status.idle": "2024-03-02T10:23:05.161084Z",
          "shell.execute_reply.started": "2024-03-02T10:18:57.816525Z",
          "shell.execute_reply": "2024-03-02T10:23:05.159591Z"
        },
        "trusted": true,
        "colab": {
          "base_uri": "https://localhost:8080/"
        },
        "id": "Wgae-OZF_IFo",
        "outputId": "8c65e434-9ce4-48b7-8a52-ddc07c418a67"
      },
      "execution_count": 35,
      "outputs": [
        {
          "output_type": "stream",
          "name": "stdout",
          "text": [
            "Trial 5 Complete [00h 01m 14s]\n",
            "val_accuracy: 0.8034999966621399\n",
            "\n",
            "Best val_accuracy So Far: 0.8546666701634725\n",
            "Total elapsed time: 00h 04m 30s\n"
          ]
        }
      ]
    },
    {
      "cell_type": "code",
      "source": [
        "tuner.get_best_hyperparameters()[0].values\n",
        "model = tuner.get_best_models(num_models = 1)[0]\n",
        "callback = EarlyStopping(monitor=\"val_accuracy\",\n",
        "                        min_delta=0.00001,\n",
        "                        patience=10,\n",
        "                        verbose=1,\n",
        "                        mode=\"auto\",\n",
        "                        baseline=None,\n",
        "                        restore_best_weights=False)\n",
        "history = model.fit(X_train,y_train,epochs = 500, initial_epoch= 5, validation_data=(X_test,y_test),callbacks=callback)"
      ],
      "metadata": {
        "execution": {
          "iopub.status.busy": "2024-03-02T10:23:05.162939Z",
          "iopub.execute_input": "2024-03-02T10:23:05.163806Z",
          "iopub.status.idle": "2024-03-02T10:23:17.410388Z",
          "shell.execute_reply.started": "2024-03-02T10:23:05.163773Z",
          "shell.execute_reply": "2024-03-02T10:23:17.408416Z"
        },
        "trusted": true,
        "colab": {
          "base_uri": "https://localhost:8080/"
        },
        "id": "GO9G5mdf_IFo",
        "outputId": "13e23de0-9715-489f-e37a-6394a365d079"
      },
      "execution_count": 36,
      "outputs": [
        {
          "output_type": "stream",
          "name": "stdout",
          "text": [
            "Epoch 6/500\n",
            "250/250 [==============================] - 3s 5ms/step - loss: 0.3899 - accuracy: 0.8344 - val_loss: 0.3489 - val_accuracy: 0.8580\n",
            "Epoch 7/500\n",
            "250/250 [==============================] - 1s 4ms/step - loss: 0.3928 - accuracy: 0.8340 - val_loss: 0.3488 - val_accuracy: 0.8600\n",
            "Epoch 8/500\n",
            "250/250 [==============================] - 1s 3ms/step - loss: 0.3904 - accuracy: 0.8338 - val_loss: 0.3475 - val_accuracy: 0.8550\n",
            "Epoch 9/500\n",
            "250/250 [==============================] - 1s 3ms/step - loss: 0.3878 - accuracy: 0.8344 - val_loss: 0.3483 - val_accuracy: 0.8565\n",
            "Epoch 10/500\n",
            "250/250 [==============================] - 1s 3ms/step - loss: 0.3870 - accuracy: 0.8359 - val_loss: 0.3465 - val_accuracy: 0.8600\n",
            "Epoch 11/500\n",
            "250/250 [==============================] - 1s 3ms/step - loss: 0.3857 - accuracy: 0.8390 - val_loss: 0.3452 - val_accuracy: 0.8605\n",
            "Epoch 12/500\n",
            "250/250 [==============================] - 1s 3ms/step - loss: 0.3764 - accuracy: 0.8400 - val_loss: 0.3443 - val_accuracy: 0.8590\n",
            "Epoch 13/500\n",
            "250/250 [==============================] - 1s 3ms/step - loss: 0.3802 - accuracy: 0.8414 - val_loss: 0.3437 - val_accuracy: 0.8575\n",
            "Epoch 14/500\n",
            "250/250 [==============================] - 1s 3ms/step - loss: 0.3801 - accuracy: 0.8403 - val_loss: 0.3445 - val_accuracy: 0.8575\n",
            "Epoch 15/500\n",
            "250/250 [==============================] - 1s 3ms/step - loss: 0.3785 - accuracy: 0.8399 - val_loss: 0.3446 - val_accuracy: 0.8565\n",
            "Epoch 16/500\n",
            "250/250 [==============================] - 1s 3ms/step - loss: 0.3795 - accuracy: 0.8375 - val_loss: 0.3444 - val_accuracy: 0.8570\n",
            "Epoch 17/500\n",
            "250/250 [==============================] - 1s 3ms/step - loss: 0.3741 - accuracy: 0.8411 - val_loss: 0.3450 - val_accuracy: 0.8555\n",
            "Epoch 18/500\n",
            "250/250 [==============================] - 1s 3ms/step - loss: 0.3747 - accuracy: 0.8419 - val_loss: 0.3439 - val_accuracy: 0.8580\n",
            "Epoch 19/500\n",
            "250/250 [==============================] - 1s 3ms/step - loss: 0.3765 - accuracy: 0.8395 - val_loss: 0.3435 - val_accuracy: 0.8550\n",
            "Epoch 20/500\n",
            "250/250 [==============================] - 1s 3ms/step - loss: 0.3744 - accuracy: 0.8446 - val_loss: 0.3415 - val_accuracy: 0.8600\n",
            "Epoch 21/500\n",
            "250/250 [==============================] - 1s 3ms/step - loss: 0.3716 - accuracy: 0.8474 - val_loss: 0.3403 - val_accuracy: 0.8595\n",
            "Epoch 21: early stopping\n"
          ]
        }
      ]
    },
    {
      "cell_type": "code",
      "source": [],
      "metadata": {
        "id": "iuLLCDC1_IFo"
      },
      "execution_count": null,
      "outputs": []
    }
  ]
}